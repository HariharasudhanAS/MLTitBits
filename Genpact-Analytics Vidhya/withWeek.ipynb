{
 "cells": [
  {
   "cell_type": "code",
   "execution_count": 1,
   "metadata": {},
   "outputs": [],
   "source": [
    "import sklearn\n",
    "import pandas as pd\n",
    "from fastai.imports import *\n",
    "from fastai.structured import *"
   ]
  },
  {
   "cell_type": "code",
   "execution_count": 2,
   "metadata": {},
   "outputs": [],
   "source": [
    "main_raw = pd.read_csv('/home/orange/MLHoli/Competitions/Data/train.csv')\n",
    "meal_raw = pd.read_csv('/home/orange/MLHoli/Competitions/Data/meal_info.csv')\n",
    "center_raw = pd.read_csv('/home/orange/MLHoli/Competitions/Data/fulfilment_center_info.csv')\n",
    "\n",
    "df_raw = pd.merge(main_raw, meal_raw,how='outer', on='meal_id')\n",
    "df_raw = pd.merge(df_raw, center_raw, how='outer', on='center_id'); df_raw.head()\n",
    "\n",
    "df_cat = pd.get_dummies(df_raw, columns=['meal_id', 'center_id', 'emailer_for_promotion', 'homepage_featured', 'category', 'cuisine', 'center_type'])\n",
    "\n",
    "df_cat['week_mod4'] = df_cat.week % 4\n",
    "\n",
    "df_cat['week_mod52'] = df_cat.week % 52\n",
    "\n",
    "df_cat['discount'] = df_cat.base_price - df_cat.checkout_price\n",
    "\n",
    "df_cat['discount_percent'] = df_cat.discount *100 / df_cat.base_price\n",
    "\n",
    "df_cat.drop('id', axis=1, inplace=True)\n",
    "\n",
    "df_cat.drop('week', axis=1, inplace=True)\n",
    "\n",
    "df_trn, y_trn, nas = proc_df(df_cat, 'num_orders')"
   ]
  },
  {
   "cell_type": "code",
   "execution_count": 73,
   "metadata": {},
   "outputs": [],
   "source": [
    "def split_vals(a, n): return a[:n].copy(), a[n:].copy()\n",
    "\n",
    "size_train = int(len(df_trn)*0.4)\n",
    "x_train, x_valid = split_vals(df_trn, size_train)\n",
    "y_train, y_valid = split_vals(y_trn, size_train)"
   ]
  },
  {
   "cell_type": "code",
   "execution_count": 18,
   "metadata": {},
   "outputs": [],
   "source": [
    "def print_score(m):\n",
    "    return metrics.mean_squared_log_error(y_valid, m.predict(x_valid))*100"
   ]
  },
  {
   "cell_type": "code",
   "execution_count": 75,
   "metadata": {},
   "outputs": [
    {
     "data": {
      "text/plain": [
       "42.73210453000388"
      ]
     },
     "execution_count": 75,
     "metadata": {},
     "output_type": "execute_result"
    }
   ],
   "source": [
    "m = ensemble.RandomForestRegressor(n_jobs=-1, max_features=0.3, min_samples_leaf=2, n_estimators=60, oob_score=False)\n",
    "m.fit(x_train, y_train)\n",
    "print_score(m)"
   ]
  },
  {
   "cell_type": "code",
   "execution_count": null,
   "metadata": {},
   "outputs": [],
   "source": [
    "fi.plot('cols', 'imp', figsize=(10,6), legend=False);"
   ]
  },
  {
   "cell_type": "code",
   "execution_count": 46,
   "metadata": {},
   "outputs": [],
   "source": [
    "parameters = { 'max_features':[0.08, 0.3, 0.4, 0.6, 0.8], 'min_samples_leaf':[2,3,5], 'n_estimators':[40], 'n_jobs':[-1]}"
   ]
  },
  {
   "cell_type": "code",
   "execution_count": 48,
   "metadata": {},
   "outputs": [],
   "source": [
    "clf = sklearn.model_selection.GridSearchCV(m, param_grid=parameters ,\n",
    "                                     scoring=print_score, n_jobs=-1,\n",
    "                                    cv=5)"
   ]
  },
  {
   "cell_type": "code",
   "execution_count": 53,
   "metadata": {},
   "outputs": [],
   "source": [
    "max_features = [0.08, 0.3, 0.4, 0.6, 0.8, 0.2]\n",
    "min_samples_leaf = [2,3,5,1,7]"
   ]
  },
  {
   "cell_type": "code",
   "execution_count": 54,
   "metadata": {},
   "outputs": [
    {
     "name": "stdout",
     "output_type": "stream",
     "text": [
      "39.988324300469344 0.08 2\n",
      "40.30255459356681 0.08 3\n",
      "41.641594455517 0.08 5\n",
      "39.66565833693571 0.08 1\n",
      "42.47558544566326 0.08 7\n",
      "38.77466918906218 0.3 2\n",
      "39.33108505439051 0.3 3\n",
      "39.81170503272304 0.3 5\n",
      "38.877247729177306 0.3 1\n",
      "39.40276015889805 0.3 7\n",
      "38.88351215898634 0.4 2\n",
      "39.17200665492048 0.4 3\n",
      "39.36374652069014 0.4 5\n",
      "39.16366711915278 0.4 1\n",
      "39.77086473958818 0.4 7\n",
      "39.91623647127798 0.6 2\n",
      "39.81612227945838 0.6 3\n",
      "40.19304071268839 0.6 5\n",
      "40.32774026489838 0.6 1\n",
      "40.56121626432183 0.6 7\n",
      "40.74683573809658 0.8 2\n",
      "41.360746827643965 0.8 3\n",
      "41.02439305323944 0.8 5\n",
      "41.38397523326054 0.8 1\n",
      "41.35711536507113 0.8 7\n",
      "39.193750940711524 0.2 2\n",
      "39.28515922296219 0.2 3\n",
      "39.53816789767719 0.2 5\n",
      "38.80647801052302 0.2 1\n",
      "39.1876230710762 0.2 7\n"
     ]
    }
   ],
   "source": [
    "for f in max_features:\n",
    "    for s in min_samples_leaf:\n",
    "        m = ensemble.RandomForestRegressor(n_jobs=-1, max_features=f, min_samples_leaf=s, n_estimators=40, oob_score=False)\n",
    "        m.fit(x_train, y_train)\n",
    "        print(print_score(m), f, s)"
   ]
  },
  {
   "cell_type": "code",
   "execution_count": 56,
   "metadata": {},
   "outputs": [
    {
     "data": {
      "text/plain": [
       "RandomForestRegressor(bootstrap=True, criterion='mse', max_depth=None,\n",
       "           max_features=0.3, max_leaf_nodes=None,\n",
       "           min_impurity_decrease=0.0, min_impurity_split=None,\n",
       "           min_samples_leaf=2, min_samples_split=2,\n",
       "           min_weight_fraction_leaf=0.0, n_estimators=100, n_jobs=-1,\n",
       "           oob_score=False, random_state=None, verbose=0, warm_start=False)"
      ]
     },
     "execution_count": 56,
     "metadata": {},
     "output_type": "execute_result"
    }
   ],
   "source": [
    "m = ensemble.RandomForestRegressor(n_jobs=-1, max_features=0.3, min_samples_leaf=2, n_estimators=100, oob_score=False)\n",
    "m.fit(df_trn, y_trn)"
   ]
  },
  {
   "cell_type": "code",
   "execution_count": 66,
   "metadata": {},
   "outputs": [
    {
     "name": "stdout",
     "output_type": "stream",
     "text": [
      "(32573, 160)\n"
     ]
    },
    {
     "ename": "ValueError",
     "evalue": "Number of features of the model must match the input. Model n_features is 163 and input n_features is 162 ",
     "output_type": "error",
     "traceback": [
      "\u001b[0;31m---------------------------------------------------------------------------\u001b[0m",
      "\u001b[0;31mValueError\u001b[0m                                Traceback (most recent call last)",
      "\u001b[0;32m<ipython-input-66-1e93b5f3f09f>\u001b[0m in \u001b[0;36m<module>\u001b[0;34m()\u001b[0m\n\u001b[1;32m     23\u001b[0m \u001b[0mtest_cat\u001b[0m\u001b[0;34m.\u001b[0m\u001b[0mdrop\u001b[0m\u001b[0;34m(\u001b[0m\u001b[0;34m'week'\u001b[0m\u001b[0;34m,\u001b[0m \u001b[0maxis\u001b[0m\u001b[0;34m=\u001b[0m\u001b[0;36m1\u001b[0m\u001b[0;34m,\u001b[0m \u001b[0minplace\u001b[0m\u001b[0;34m=\u001b[0m\u001b[0;32mTrue\u001b[0m\u001b[0;34m)\u001b[0m\u001b[0;34m\u001b[0m\u001b[0m\n\u001b[1;32m     24\u001b[0m \u001b[0;34m\u001b[0m\u001b[0m\n\u001b[0;32m---> 25\u001b[0;31m \u001b[0mpreds\u001b[0m \u001b[0;34m=\u001b[0m \u001b[0mm\u001b[0m\u001b[0;34m.\u001b[0m\u001b[0mpredict\u001b[0m\u001b[0;34m(\u001b[0m\u001b[0mtest_cat\u001b[0m\u001b[0;34m)\u001b[0m\u001b[0;34m\u001b[0m\u001b[0m\n\u001b[0m\u001b[1;32m     26\u001b[0m \u001b[0;34m\u001b[0m\u001b[0m\n\u001b[1;32m     27\u001b[0m \u001b[0mres\u001b[0m \u001b[0;34m=\u001b[0m \u001b[0mpd\u001b[0m\u001b[0;34m.\u001b[0m\u001b[0mDataFrame\u001b[0m\u001b[0;34m(\u001b[0m\u001b[0mpreds\u001b[0m\u001b[0;34m)\u001b[0m\u001b[0;34m\u001b[0m\u001b[0m\n",
      "\u001b[0;32m~/miniconda3/lib/python3.6/site-packages/sklearn/ensemble/forest.py\u001b[0m in \u001b[0;36mpredict\u001b[0;34m(self, X)\u001b[0m\n\u001b[1;32m    687\u001b[0m         \u001b[0mcheck_is_fitted\u001b[0m\u001b[0;34m(\u001b[0m\u001b[0mself\u001b[0m\u001b[0;34m,\u001b[0m \u001b[0;34m'estimators_'\u001b[0m\u001b[0;34m)\u001b[0m\u001b[0;34m\u001b[0m\u001b[0m\n\u001b[1;32m    688\u001b[0m         \u001b[0;31m# Check data\u001b[0m\u001b[0;34m\u001b[0m\u001b[0;34m\u001b[0m\u001b[0m\n\u001b[0;32m--> 689\u001b[0;31m         \u001b[0mX\u001b[0m \u001b[0;34m=\u001b[0m \u001b[0mself\u001b[0m\u001b[0;34m.\u001b[0m\u001b[0m_validate_X_predict\u001b[0m\u001b[0;34m(\u001b[0m\u001b[0mX\u001b[0m\u001b[0;34m)\u001b[0m\u001b[0;34m\u001b[0m\u001b[0m\n\u001b[0m\u001b[1;32m    690\u001b[0m \u001b[0;34m\u001b[0m\u001b[0m\n\u001b[1;32m    691\u001b[0m         \u001b[0;31m# Assign chunk of trees to jobs\u001b[0m\u001b[0;34m\u001b[0m\u001b[0;34m\u001b[0m\u001b[0m\n",
      "\u001b[0;32m~/miniconda3/lib/python3.6/site-packages/sklearn/ensemble/forest.py\u001b[0m in \u001b[0;36m_validate_X_predict\u001b[0;34m(self, X)\u001b[0m\n\u001b[1;32m    362\u001b[0m                                  \"call `fit` before exploiting the model.\")\n\u001b[1;32m    363\u001b[0m \u001b[0;34m\u001b[0m\u001b[0m\n\u001b[0;32m--> 364\u001b[0;31m         \u001b[0;32mreturn\u001b[0m \u001b[0mself\u001b[0m\u001b[0;34m.\u001b[0m\u001b[0mestimators_\u001b[0m\u001b[0;34m[\u001b[0m\u001b[0;36m0\u001b[0m\u001b[0;34m]\u001b[0m\u001b[0;34m.\u001b[0m\u001b[0m_validate_X_predict\u001b[0m\u001b[0;34m(\u001b[0m\u001b[0mX\u001b[0m\u001b[0;34m,\u001b[0m \u001b[0mcheck_input\u001b[0m\u001b[0;34m=\u001b[0m\u001b[0;32mTrue\u001b[0m\u001b[0;34m)\u001b[0m\u001b[0;34m\u001b[0m\u001b[0m\n\u001b[0m\u001b[1;32m    365\u001b[0m \u001b[0;34m\u001b[0m\u001b[0m\n\u001b[1;32m    366\u001b[0m     \u001b[0;34m@\u001b[0m\u001b[0mproperty\u001b[0m\u001b[0;34m\u001b[0m\u001b[0m\n",
      "\u001b[0;32m~/miniconda3/lib/python3.6/site-packages/sklearn/tree/tree.py\u001b[0m in \u001b[0;36m_validate_X_predict\u001b[0;34m(self, X, check_input)\u001b[0m\n\u001b[1;32m    385\u001b[0m                              \u001b[0;34m\"match the input. Model n_features is %s and \"\u001b[0m\u001b[0;34m\u001b[0m\u001b[0m\n\u001b[1;32m    386\u001b[0m                              \u001b[0;34m\"input n_features is %s \"\u001b[0m\u001b[0;34m\u001b[0m\u001b[0m\n\u001b[0;32m--> 387\u001b[0;31m                              % (self.n_features_, n_features))\n\u001b[0m\u001b[1;32m    388\u001b[0m \u001b[0;34m\u001b[0m\u001b[0m\n\u001b[1;32m    389\u001b[0m         \u001b[0;32mreturn\u001b[0m \u001b[0mX\u001b[0m\u001b[0;34m\u001b[0m\u001b[0m\n",
      "\u001b[0;31mValueError\u001b[0m: Number of features of the model must match the input. Model n_features is 163 and input n_features is 162 "
     ]
    }
   ],
   "source": [
    "test_main_raw = pd.read_csv('/home/orange/MLHoli/Competitions/Data/test_QoiMO9B.csv')\n",
    "\n",
    "test_raw = pd.merge(test_main_raw, meal_raw,how='outer', on='meal_id')\n",
    "\n",
    "test_raw = pd.merge(test_raw, center_raw, how='outer', on='center_id')\n",
    "\n",
    "test_cat = pd.get_dummies(test_raw, columns=['meal_id', 'center_id', 'emailer_for_promotion', 'homepage_featured', 'category', 'cuisine', 'center_type'])\n",
    "\n",
    "print(test_cat.shape)\n",
    "\n",
    "test_cat['week_mod4'] = test_cat.week % 4\n",
    "\n",
    "test_cat['week_mod52'] = test_cat.week % 52\n",
    "\n",
    "test_cat['discount'] = test_cat.base_price - test_cat.checkout_price\n",
    "\n",
    "test_cat['discount_percent'] = test_cat.discount *100 / test_cat.base_price\n",
    "\n",
    "item_no = test_cat.id\n",
    "\n",
    "test_cat.drop('id', axis=1, inplace=True)\n",
    "\n",
    "test_cat.drop('week', axis=1, inplace=True)\n",
    "\n",
    "preds = m.predict(test_cat)\n",
    "\n",
    "res = pd.DataFrame(preds)\n",
    "\n",
    "res['id'] = item_no\n",
    "\n",
    "res['num_orders'] = preds\n",
    "\n",
    "res.head()\n",
    "\n",
    "res.columns\n",
    "\n",
    "res.drop(0, axis=1, inplace=True)\n",
    "\n",
    "res.head()\n",
    "\n",
    "res.to_csv('/home/orange/Desktop/result.csv')"
   ]
  },
  {
   "cell_type": "code",
   "execution_count": 65,
   "metadata": {},
   "outputs": [
    {
     "data": {
      "text/plain": [
       "(32573, 164)"
      ]
     },
     "execution_count": 65,
     "metadata": {},
     "output_type": "execute_result"
    }
   ],
   "source": [
    "test_cat.shape"
   ]
  },
  {
   "cell_type": "code",
   "execution_count": 61,
   "metadata": {},
   "outputs": [
    {
     "data": {
      "text/plain": [
       "(456548, 163)"
      ]
     },
     "execution_count": 61,
     "metadata": {},
     "output_type": "execute_result"
    }
   ],
   "source": [
    "df_trn.shape"
   ]
  },
  {
   "cell_type": "code",
   "execution_count": 62,
   "metadata": {},
   "outputs": [
    {
     "data": {
      "text/plain": [
       "(32573, 163)"
      ]
     },
     "execution_count": 62,
     "metadata": {},
     "output_type": "execute_result"
    }
   ],
   "source": [
    "test_cat.shape"
   ]
  },
  {
   "cell_type": "code",
   "execution_count": 77,
   "metadata": {},
   "outputs": [],
   "source": [
    "tmain_raw = pd.read_csv('/home/orange/MLHoli/Competitions/Data/test_QoiMO9B.csv')\n",
    "meal_raw = pd.read_csv('/home/orange/MLHoli/Competitions/Data/meal_info.csv')\n",
    "center_raw = pd.read_csv('/home/orange/MLHoli/Competitions/Data/fulfilment_center_info.csv')\n",
    "\n",
    "tdf_raw = pd.merge(tmain_raw, meal_raw,how='outer', on='meal_id')\n",
    "tdf_raw = pd.merge(tdf_raw, center_raw, how='outer', on='center_id')\n",
    "\n",
    "tdf_cat = pd.get_dummies(tdf_raw, columns=['meal_id', 'center_id', 'emailer_for_promotion', 'homepage_featured', 'category', 'cuisine', 'center_type'])\n",
    "\n",
    "tdf_cat['week_mod4'] = tdf_cat.week % 4\n",
    "\n",
    "tdf_cat['week_mod52'] = tdf_cat.week % 52\n",
    "\n",
    "tdf_cat['discount'] = tdf_cat.base_price - tdf_cat.checkout_price\n",
    "\n",
    "tdf_cat['discount_percent'] = tdf_cat.discount *100 / tdf_cat.base_price\n",
    "\n",
    "tdf_cat['month'] = tdf_cat.week / 4\n",
    "\n",
    "tdf_cat['month'] = tdf_cat['month'].astype('int')\n",
    "\n",
    "tdf_cat.drop('id', axis=1, inplace=True)\n",
    "\n",
    "tdf_cat.drop('week', axis=1, inplace=True)\n",
    "\n",
    "#tdf_trn, ty_trn, nas = proc_df(tdf_cat, 'num_orders')\n",
    "\n",
    "preds = m.predict(tdf_cat)\n",
    "\n",
    "res = pd.DataFrame(preds)\n",
    "\n",
    "res['id'] = item_no\n",
    "\n",
    "res['num_orders'] = preds\n",
    "\n",
    "res['num_orders'] = res['num_orders'].astype('int')\n",
    "\n",
    "res.head()\n",
    "\n",
    "res.columns\n",
    "\n",
    "res.drop(0, axis=1, inplace=True)\n",
    "\n",
    "res.head()\n",
    "\n",
    "res.to_csv('/home/orange/Desktop/result.csv')"
   ]
  },
  {
   "cell_type": "code",
   "execution_count": 70,
   "metadata": {},
   "outputs": [
    {
     "data": {
      "text/plain": [
       "Index(['checkout_price', 'base_price', 'city_code', 'region_code', 'op_area',\n",
       "       'meal_id_1062', 'meal_id_1109', 'meal_id_1198', 'meal_id_1207',\n",
       "       'meal_id_1216',\n",
       "       ...\n",
       "       'cuisine_Indian', 'cuisine_Italian', 'cuisine_Thai',\n",
       "       'center_type_TYPE_A', 'center_type_TYPE_B', 'center_type_TYPE_C',\n",
       "       'week_mod4', 'week_mod52', 'discount', 'discount_percent'],\n",
       "      dtype='object', length=162)"
      ]
     },
     "execution_count": 70,
     "metadata": {},
     "output_type": "execute_result"
    }
   ],
   "source": [
    "tdf_cat.columns"
   ]
  },
  {
   "cell_type": "code",
   "execution_count": 71,
   "metadata": {},
   "outputs": [
    {
     "data": {
      "text/plain": [
       "Index(['checkout_price', 'base_price', 'city_code', 'region_code', 'op_area',\n",
       "       'meal_id_1062', 'meal_id_1109', 'meal_id_1198', 'meal_id_1207',\n",
       "       'meal_id_1216',\n",
       "       ...\n",
       "       'cuisine_Italian', 'cuisine_Thai', 'center_type_TYPE_A',\n",
       "       'center_type_TYPE_B', 'center_type_TYPE_C', 'week_mod4', 'week_mod52',\n",
       "       'month', 'discount', 'discount_percent'],\n",
       "      dtype='object', length=163)"
      ]
     },
     "execution_count": 71,
     "metadata": {},
     "output_type": "execute_result"
    }
   ],
   "source": [
    "df_trn.columns"
   ]
  },
  {
   "cell_type": "code",
   "execution_count": null,
   "metadata": {},
   "outputs": [],
   "source": []
  }
 ],
 "metadata": {
  "kernelspec": {
   "display_name": "Python 3",
   "language": "python",
   "name": "python3"
  },
  "language_info": {
   "codemirror_mode": {
    "name": "ipython",
    "version": 3
   },
   "file_extension": ".py",
   "mimetype": "text/x-python",
   "name": "python",
   "nbconvert_exporter": "python",
   "pygments_lexer": "ipython3",
   "version": "3.6.4"
  }
 },
 "nbformat": 4,
 "nbformat_minor": 2
}
